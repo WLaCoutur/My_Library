{
 "cells": [
  {
   "metadata": {},
   "cell_type": "markdown",
   "source": "# 📚 Extraction d'un PID avec des Regex en Python",
   "id": "a64611dcafe0820c"
  },
  {
   "metadata": {},
   "cell_type": "markdown",
   "source": [
    "### 🔹 Introduction\n",
    "\n",
    "Un **PID** (Process ID) est un identifiant numérique attribué à un processus par le système d’exploitation.\n",
    "Il est souvent utilisé dans les logs système pour identifier l’origine des messages.\n",
    "\n",
    "💡 Dans ce cours, nous allons :\n",
    "✅ Comprendre la forme d’un PID.\n",
    "✅ Écrire une regex pour l’extraire.\n",
    "✅ Tester sur des exemples pratiques."
   ],
   "id": "b39279e8cd7f64b3"
  },
  {
   "metadata": {},
   "cell_type": "markdown",
   "source": [
    "## 🔹 Exemple de log contenant un PID\n",
    "\n",
    "```log\n",
    "May 29 12:00:00 myserver systemd[1]: Started Session 1 of user root.\n",
    "May 29 12:01:00 myserver sshd[1234]: Accepted password for user from 192.168.0.1 port 22 ssh2\n",
    "May 29 12:02:00 myserver kernel: [98765.4321] INFO: task process_name(5678) blocked for more than 120 seconds."
   ],
   "id": "2664a525284c819"
  },
  {
   "metadata": {},
   "cell_type": "markdown",
   "source": [
    "### 🔹 Exemple de log contenant un PID\n",
    "\n",
    "```log\n",
    "May 29 12:00:00 myserver systemd[1]: Started Session 1 of user root.\n",
    "May 29 12:01:00 myserver sshd[1234]: Accepted password for user from 192.168.0.1 port 22 ssh2\n",
    "May 29 12:02:00 myserver kernel: [98765.4321] INFO: task process_name(5678) blocked for more than 120 seconds."
   ],
   "id": "3a48483e75dfb8e5"
  },
  {
   "metadata": {},
   "cell_type": "markdown",
   "source": [
    "```markdown\n",
    "## 🔹 Importer les modules"
   ],
   "id": "83fc4ef848a96d04"
  },
  {
   "metadata": {},
   "cell_type": "code",
   "outputs": [],
   "execution_count": null,
   "source": "import re",
   "id": "4316ca3dd1b95d53"
  },
  {
   "metadata": {},
   "cell_type": "markdown",
   "source": "### 🔹 Exemple 1 : Extraire un PID entre crochets `[]`",
   "id": "8c5d1277a902154f"
  },
  {
   "metadata": {},
   "cell_type": "code",
   "outputs": [],
   "execution_count": null,
   "source": [
    "log_line = \"May 29 12:01:00 myserver sshd[1234]: Accepted password for user\"\n",
    "\n",
    "# Regex : un nombre entre crochets\n",
    "pattern = r\"\\[(\\d+)\\]\"\n",
    "\n",
    "match = re.search(pattern, log_line)\n",
    "if match:\n",
    "    print(\"PID trouvé :\", match.group(1))\n",
    "else:\n",
    "    print(\"Pas de PID trouvé.\")"
   ],
   "id": "d9d3120bdbfaceb8"
  },
  {
   "metadata": {},
   "cell_type": "markdown",
   "source": "## 🔹 Exemple 2 : Extraire un PID entre parenthèses `()`",
   "id": "a83eef5e79218dc8"
  },
  {
   "metadata": {},
   "cell_type": "code",
   "outputs": [],
   "execution_count": null,
   "source": [
    "log_line2 = \"May 29 12:02:00 myserver kernel: [98765.4321] INFO: task process_name(5678) blocked\"\n",
    "\n",
    "# Regex : un nombre entre parenthèses\n",
    "pattern2 = r\"\\((\\d+)\\)\"\n",
    "\n",
    "match2 = re.search(pattern2, log_line2)\n",
    "if match2:\n",
    "    print(\"PID trouvé :\", match2.group(1))\n",
    "else:\n",
    "    print(\"Pas de PID trouvé.\")"
   ],
   "id": "29f0bace94e88e10"
  },
  {
   "metadata": {},
   "cell_type": "markdown",
   "source": [
    "### 🔹 Exemple 3 : Extraire tous les PID d'un texte\n",
    "\n",
    "Si le log contient plusieurs PID, on peut les trouver avec `re.findall()`."
   ],
   "id": "cd1c4bf3124623a2"
  },
  {
   "metadata": {},
   "cell_type": "code",
   "outputs": [],
   "execution_count": null,
   "source": [
    "log_text = \"\"\"\n",
    "May 29 12:00:00 myserver systemd[1]: Started Session 1 of user root.\n",
    "May 29 12:01:00 myserver sshd[1234]: Accepted password for user\n",
    "May 29 12:02:00 myserver kernel: [98765.4321] INFO: task process_name(5678) blocked\n",
    "\"\"\"\n",
    "\n",
    "# Trouver tous les nombres entre crochets et parenthèses\n",
    "pattern_all = r\"\\[(\\d+)\\]|\\((\\d+)\\)\"\n",
    "\n",
    "matches = re.findall(pattern_all, log_text)\n",
    "\n",
    "# Comme on a deux groupes de capture, chaque élément est un tuple : (groupe1, groupe2)\n",
    "pids = []\n",
    "for g1, g2 in matches:\n",
    "    if g1:\n",
    "        pids.append(g1)\n",
    "    elif g2:\n",
    "        pids.append(g2)\n",
    "\n",
    "print(\"Tous les PID trouvés :\", pids)"
   ],
   "id": "5b66441146a4c50e"
  }
 ],
 "metadata": {
  "kernelspec": {
   "display_name": "Python 3",
   "language": "python",
   "name": "python3"
  },
  "language_info": {
   "codemirror_mode": {
    "name": "ipython",
    "version": 2
   },
   "file_extension": ".py",
   "mimetype": "text/x-python",
   "name": "python",
   "nbconvert_exporter": "python",
   "pygments_lexer": "ipython2",
   "version": "2.7.6"
  }
 },
 "nbformat": 4,
 "nbformat_minor": 5
}
