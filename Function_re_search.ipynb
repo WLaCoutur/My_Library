{
 "cells": [
  {
   "cell_type": "code",
   "id": "initial_id",
   "metadata": {
    "collapsed": true,
    "jupyter": {
     "is_executing": true
    }
   },
   "source": [
    "import re\n",
    "def check_time(text):\n",
    "  pattern = r\"^(1[0-2]|0?[1-9]):[0-5][0-9]\\s*(am|pm|AM|PM)$\"\n",
    "  result = re.search(pattern, text)\n",
    "  return result != None\n",
    "\n",
    "print(check_time(\"12:45pm\")) # True\n",
    "print(check_time(\"9:59 AM\")) # True\n",
    "print(check_time(\"6:60am\")) # False\n",
    "print(check_time(\"five o'clock\")) # False\n",
    "print(check_time(\"6:02 am\")) # True\n",
    "print(check_time(\"6:02km\")) # False"
   ],
   "outputs": [],
   "execution_count": null
  },
  {
   "metadata": {},
   "cell_type": "code",
   "outputs": [],
   "execution_count": null,
   "source": "",
   "id": "aa815c88f00b413d"
  }
 ],
 "metadata": {
  "kernelspec": {
   "display_name": "Python 3",
   "language": "python",
   "name": "python3"
  },
  "language_info": {
   "codemirror_mode": {
    "name": "ipython",
    "version": 2
   },
   "file_extension": ".py",
   "mimetype": "text/x-python",
   "name": "python",
   "nbconvert_exporter": "python",
   "pygments_lexer": "ipython2",
   "version": "2.7.6"
  }
 },
 "nbformat": 4,
 "nbformat_minor": 5
}
