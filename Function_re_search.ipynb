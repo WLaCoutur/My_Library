{
 "cells": [
  {
   "metadata": {},
   "cell_type": "markdown",
   "source": [
    "## 📚 Expressions Régulières en Python (Regex)\n",
    "\n",
    "Les expressions régulières (ou regex) sont un langage pour **rechercher**, **valider** ou **remplacer** des motifs dans des textes.\n",
    "En Python, elles sont gérées par le module `re`."
   ],
   "id": "4c35a1835585a3d1"
  },
  {
   "metadata": {},
   "cell_type": "code",
   "outputs": [],
   "execution_count": null,
   "source": [
    "# 🔹 Importer le module\n",
    "import re"
   ],
   "id": "960139b53820a66"
  },
  {
   "metadata": {},
   "cell_type": "markdown",
   "source": [
    "### 🔹 Les principales fonctions de `re`\n",
    "\n",
    "| Fonction           | Description                                               |\n",
    "|--------------------|-----------------------------------------------------------|\n",
    "| `re.search()`      | Recherche le **premier** motif dans la chaîne.            |\n",
    "| `re.match()`       | Recherche le motif **uniquement au début** de la chaîne.  |\n",
    "| `re.findall()`     | Retourne **toutes** les correspondances sous forme de liste. |\n",
    "| `re.finditer()`    | Renvoie un itérateur de tous les objets `Match`.          |\n",
    "| `re.sub()`         | Remplace les motifs par un autre texte.                   |"
   ],
   "id": "2eb37b8a65e16114"
  },
  {
   "metadata": {},
   "cell_type": "code",
   "outputs": [],
   "execution_count": null,
   "source": [
    "# Exemple d'utilisation\n",
    "text = \"Mon numéro est 06 01 02 03 04 et mon email est user@example.com.\"\n",
    "\n",
    "# Trouver la première suite de chiffres\n",
    "match = re.search(r\"\\d+\", text)\n",
    "if match:\n",
    "    print(\"Premier nombre trouvé :\", match.group())"
   ],
   "id": "473111397930d9bd"
  },
  {
   "metadata": {},
   "cell_type": "code",
   "outputs": [],
   "execution_count": null,
   "source": [
    "# Trouver tous les nombres\n",
    "numbers = re.findall(r\"\\d+\", text)\n",
    "print(\"Tous les nombres :\", numbers)"
   ],
   "id": "31c6a75ac523cc4e"
  },
  {
   "metadata": {},
   "cell_type": "code",
   "outputs": [],
   "execution_count": null,
   "source": [
    "# Remplacer les nombres par des dièses\n",
    "masked_text = re.sub(r\"\\d\", \"#\", text)\n",
    "print(masked_text)"
   ],
   "id": "e74f3ccc2c3e85cb"
  },
  {
   "metadata": {},
   "cell_type": "markdown",
   "source": "",
   "id": "557e4e1099d518b3"
  },
  {
   "metadata": {},
   "cell_type": "markdown",
   "source": [
    "## 🔹 Symboles de base\n",
    "\n",
    "| Symbole | Signification                                | Exemple                  |\n",
    "|---------|----------------------------------------------|--------------------------|\n",
    "| `.`     | Un caractère quelconque (sauf saut de ligne) | `a.b` : match `acb`, `a-b` |\n",
    "| `^`     | Début de la chaîne                           | `^Bonjour`               |\n",
    "| `$`     | Fin de la chaîne                             | `fin$`                   |\n",
    "| `*`     | 0 ou plusieurs fois                          | `lo*l`                   |\n",
    "| `+`     | 1 ou plusieurs fois                          | `lo+l`                   |\n",
    "| `?`     | 0 ou 1 fois                                  | `colou?r` : `color`/`colour` |\n",
    "| `{m}`   | Exactement m fois                            | `\\d{3}` : 3 chiffres     |\n",
    "| `{m,n}` | De m à n fois                                | `\\d{2,4}`                |\n",
    "| `[]`    | Classe de caractères                         | `[abc]`                  |\n",
    "| `|`     | OU logique                                   | `chat|chien`             |\n",
    "| `()`    | Groupe (capturé par `group()`)               | `(ab)+`                  |"
   ],
   "id": "8dd45b28f6a7df4e"
  },
  {
   "metadata": {},
   "cell_type": "markdown",
   "source": [
    "### 🔹 Classes de caractères\n",
    "\n",
    "| Classe | Signification                 |\n",
    "|--------|-------------------------------|\n",
    "| `\\d`   | Chiffre (0-9)                 |\n",
    "| `\\D`   | Non chiffre                   |\n",
    "| `\\w`   | Lettre, chiffre ou `_`        |\n",
    "| `\\W`   | Tout sauf `\\w`                |\n",
    "| `\\s`   | Espace, tabulation, saut de ligne |\n",
    "| `\\S`   | Tout sauf `\\s`                |"
   ],
   "id": "f06c5e93119756d1"
  },
  {
   "metadata": {},
   "cell_type": "code",
   "outputs": [],
   "execution_count": null,
   "source": [
    "# 🔸 Exemple : Extraire les mots\n",
    "text = \"Hello world_123!\"\n",
    "words = re.findall(r\"\\w+\", text)\n",
    "print(\"Mots trouvés :\", words)"
   ],
   "id": "4a5a148595e402cf"
  },
  {
   "metadata": {},
   "cell_type": "markdown",
   "source": [
    "### 🔹 Objets Match : explorer les résultats\n",
    "\n",
    "Quand `re.search()` ou `re.match()` trouve une correspondance, il retourne un **objet Match**.\n",
    "Cet objet contient :\n",
    "- `.group()` : le texte correspondant.\n",
    "- `.start()` : l’index de début.\n",
    "- `.end()` : l’index de fin.\n",
    "\n",
    "Exemple :"
   ],
   "id": "691eb21b07957c78"
  },
  {
   "metadata": {},
   "cell_type": "code",
   "outputs": [],
   "execution_count": null,
   "source": [
    "text = \"J'ai 12 pommes et 3 bananes.\"\n",
    "m = re.search(r\"\\d+\", text)\n",
    "if m:\n",
    "    print(\"Nombre trouvé :\", m.group())\n",
    "    print(\"Position :\", m.start(), \"-\", m.end())"
   ],
   "id": "66e0e8bb21e08b51"
  },
  {
   "metadata": {},
   "cell_type": "markdown",
   "source": [
    "## 🔹 Exemple complet : valider une heure\n",
    "\n",
    "On souhaite valider les heures au format `hh:mm am/pm`."
   ],
   "id": "122f7864d6818cc7"
  },
  {
   "metadata": {},
   "cell_type": "code",
   "outputs": [],
   "execution_count": null,
   "source": [
    "def check_time(text):\n",
    "    pattern = r\"^(1[0-2]|0?[1-9]):[0-5][0-9]\\s*(am|pm|AM|PM)$\"\n",
    "    return re.search(pattern, text) != None\n",
    "\n",
    "print(check_time(\"12:45 pm\"))  # True\n",
    "print(check_time(\"9:59 AM\"))   # True\n",
    "print(check_time(\"13:00 pm\"))  # False"
   ],
   "id": "3b842ca34c79274e"
  },
  {
   "metadata": {},
   "cell_type": "markdown",
   "source": [
    "### 🔹 Remplacer du texte\n",
    "\n",
    "On peut utiliser `re.sub()` pour remplacer tous les motifs par un texte donné."
   ],
   "id": "328edf5ce3876789"
  },
  {
   "metadata": {},
   "cell_type": "code",
   "outputs": [],
   "execution_count": null,
   "source": [
    "# Remplacer tous les chiffres par des dièses\n",
    "text = \"Code postal : 75000\"\n",
    "print(re.sub(r\"\\d\", \"#\", text))"
   ],
   "id": "d5310cf348fe748f"
  },
  {
   "metadata": {},
   "cell_type": "markdown",
   "source": [
    "### 🔹 Résumé et bonnes pratiques\n",
    "\n",
    "✅ Utiliser les **raw strings** (`r\"...\"`) pour éviter d’échapper les backslashes.\n",
    "✅ Bien **documenter** les motifs complexes.\n",
    "✅ Utiliser un site comme [regex101.com](https://regex101.com/) pour tester tes regex en direct.\n",
    "\n",
    "---\n",
    "\n",
    "🚀 N’hésite pas à modifier ce notebook pour faire tes propres tests !\n",
    "Tu veux que j’ajoute des **exercices** ou des **quiz** pour t’entraîner ? 😊"
   ],
   "id": "9b26b032e3fb7a90"
  },
  {
   "metadata": {},
   "cell_type": "code",
   "outputs": [],
   "source": "",
   "id": "b9fd48e9f4e01632",
   "execution_count": null
  },
  {
   "metadata": {},
   "cell_type": "markdown",
   "source": "### 👉Function Libraries and test",
   "id": "43d6c0a0213f28e8"
  },
  {
   "metadata": {},
   "cell_type": "markdown",
   "source": "The check_web_address() function checks if the text passed qualifies as a top-level web address, meaning that it contains alphanumeric characters (which includes letters, numbers, and underscores), as well as periods, dashes, and a plus sign, followed by a period and a character-only top-level domain such as \".com\", \".info\", \".edu\", etc. Fill in the regular expression to do that, using escape characters, wildcards, repetition qualifiers, beginning and end-of-line characters, and character classes.",
   "id": "3850a14c6b9bd834"
  },
  {
   "metadata": {},
   "cell_type": "code",
   "outputs": [],
   "execution_count": null,
   "source": [
    "import re\n",
    "def check_web_address(text):\n",
    "  pattern = r\"^[a-zA-Z0-9_.-]+\\.[a-zA-Z]+$\"\n",
    "  result = re.search(pattern, text)\n",
    "  return result != None\n",
    "\n",
    "print(check_web_address(\"gmail.com\")) # True\n",
    "print(check_web_address(\"www@google\")) # False\n",
    "print(check_web_address(\"www.Coursera.org\")) # True\n",
    "print(check_web_address(\"web-address.com/homepage\")) # False\n",
    "print(check_web_address(\"My_Favorite-Blog.US\")) # True"
   ],
   "id": "6cfc4978a811f93a"
  },
  {
   "metadata": {},
   "cell_type": "markdown",
   "source": "The check_time() function checks for the time format of a 12-hour clock, as follows: the hour is between 1 and 12, with no leading zero, followed by a colon, then minutes between 00 and 59, then an optional space, and then AM or PM, in upper or lower case. Fill in the regular expression to do that. How many of the concepts that you just learned can you use here?",
   "id": "58d59e4a97541574"
  },
  {
   "cell_type": "code",
   "id": "initial_id",
   "metadata": {
    "collapsed": true,
    "jupyter": {
     "is_executing": true
    }
   },
   "source": [
    "import re\n",
    "def check_time(text):\n",
    "  pattern = r\"^(1[0-2]|0?[1-9]):[0-5][0-9]\\s*(am|pm|AM|PM)$\"\n",
    "  result = re.search(pattern, text)\n",
    "  return result != None\n",
    "\n",
    "print(check_time(\"12:45pm\")) # True\n",
    "print(check_time(\"9:59 AM\")) # True\n",
    "print(check_time(\"6:60am\")) # False\n",
    "print(check_time(\"five o'clock\")) # False\n",
    "print(check_time(\"6:02 am\")) # True\n",
    "print(check_time(\"6:02km\")) # False"
   ],
   "outputs": [],
   "execution_count": null
  },
  {
   "metadata": {},
   "cell_type": "markdown",
   "source": "The contains_acronym() function checks the text for the presence of 2 or more characters or digits surrounded by parentheses, with at least the first character in uppercase (if it's a letter), returning True if the condition is met, or False otherwise. For example, \"Instant messaging (IM) is a set of communication technologies used for text-based communication\" should return True since (IM) satisfies the match conditions.\" Fill in the regular expression in this function:",
   "id": "57c7823fef574420"
  },
  {
   "metadata": {},
   "cell_type": "code",
   "outputs": [],
   "execution_count": null,
   "source": [
    "import re\n",
    "def contains_acronym(text):\n",
    "  pattern = r\"\\([A-Za-z0-9]{2,}\\)\"\n",
    "  result = re.search(pattern, text)\n",
    "  return result != None\n",
    "\n",
    "print(contains_acronym(\"Instant messaging (IM) is a set of communication technologies used for text-based communication\")) # True\n",
    "print(contains_acronym(\"American Standard Code for Information Interchange (ASCII) is a character encoding standard for electronic communication\")) # True\n",
    "print(contains_acronym(\"Please do NOT enter without permission!\")) # False\n",
    "print(contains_acronym(\"PostScript is a fourth-generation programming language (4GL)\")) # True\n",
    "print(contains_acronym(\"Have fun using a self-contained underwater breathing apparatus (Scuba)!\")) # True"
   ],
   "id": "aa815c88f00b413d"
  }
 ],
 "metadata": {
  "kernelspec": {
   "display_name": "Python 3",
   "language": "python",
   "name": "python3"
  },
  "language_info": {
   "codemirror_mode": {
    "name": "ipython",
    "version": 2
   },
   "file_extension": ".py",
   "mimetype": "text/x-python",
   "name": "python",
   "nbconvert_exporter": "python",
   "pygments_lexer": "ipython2",
   "version": "2.7.6"
  }
 },
 "nbformat": 4,
 "nbformat_minor": 5
}
