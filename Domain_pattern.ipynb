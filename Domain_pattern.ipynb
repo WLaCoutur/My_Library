{
 "cells": [
  {
   "metadata": {},
   "cell_type": "markdown",
   "source": [
    "Prerequisites\n",
    "We've created a list containing user names and their email addresses. Navigate to the data directory using the following command:Prerequisites"
   ],
   "id": "48545461a84e2d96"
  },
  {
   "metadata": {},
   "cell_type": "code",
   "outputs": [],
   "execution_count": null,
   "source": "cd data",
   "id": "f4b43a131ca28351"
  },
  {
   "metadata": {},
   "cell_type": "markdown",
   "source": "To find the data, list the files using the following command:",
   "id": "dc95d3cda285927"
  },
  {
   "metadata": {},
   "cell_type": "code",
   "outputs": [],
   "execution_count": null,
   "source": "ls",
   "id": "6bafd6ed2c32d9fd"
  },
  {
   "metadata": {},
   "cell_type": "markdown",
   "source": "You can now see a file named user_emails.csv. This is where you will find the required data. To view the contents of the user_emails.csv file, enter the following command:",
   "id": "ff05f00fa12dca6a"
  },
  {
   "metadata": {},
   "cell_type": "code",
   "outputs": [],
   "execution_count": null,
   "source": "cat user_emails.csv",
   "id": "eb4facdd815471e0"
  },
  {
   "metadata": {},
   "cell_type": "markdown",
   "source": "You can also access a python script that contains function definitions for the task. Navigate to the scripts directory using the following command:",
   "id": "f7ba2bf52cf95383"
  },
  {
   "metadata": {},
   "cell_type": "code",
   "outputs": [],
   "execution_count": null,
   "source": "cd ~/scripts",
   "id": "9234164fe67e572d"
  },
  {
   "metadata": {},
   "cell_type": "markdown",
   "source": "Now list the contents within the scripts directory using the following command:",
   "id": "4df6e7d68557baa2"
  },
  {
   "metadata": {},
   "cell_type": "code",
   "outputs": [],
   "execution_count": null,
   "source": "ls",
   "id": "ee0963edbdc1c445"
  },
  {
   "metadata": {},
   "cell_type": "markdown",
   "source": [
    "Here, you will find a file named script.py. The aim of this script is to use regex to find all instances of the old domain (\"abc.edu\") in the user_emails.csv file and then replace them with the new domain (\"xyz.edu\").\n",
    "\n",
    "This file already has the functions defined for you. You have to now complete the function's body to make it work as intended.\n",
    "\n",
    "Let's update the file's permissions."
   ],
   "id": "cbe08925a8b84a0f"
  },
  {
   "metadata": {},
   "cell_type": "code",
   "outputs": [],
   "execution_count": null,
   "source": "sudo chmod 777 script.py",
   "id": "ccbfa22d59eb8744"
  },
  {
   "metadata": {},
   "cell_type": "markdown",
   "source": "We will use nano editor to edit script.py file.",
   "id": "2df99ef3ac90de37"
  },
  {
   "metadata": {},
   "cell_type": "code",
   "outputs": [],
   "execution_count": null,
   "source": "nano script.py",
   "id": "84c6b3f5101ce393"
  },
  {
   "metadata": {},
   "cell_type": "markdown",
   "source": "Before we start writing the script, let's import libraries to use in the script. To do this, open the file with nano editor. To deal with CSV file operations, Python has a CSV module that effectively handles CSV data. Let's import the CSV module using the following:\n",
   "id": "ac4838af42328be"
  },
  {
   "metadata": {},
   "cell_type": "code",
   "outputs": [],
   "execution_count": null,
   "source": "import csv",
   "id": "340a15aadd05419f"
  },
  {
   "metadata": {},
   "cell_type": "markdown",
   "source": "Import the regex Python module (i.e the regular expression module) to this script. A regular expression(RegEx) is a sequence of characters that defines a search pattern.",
   "id": "f443cf8b903c2427"
  },
  {
   "metadata": {},
   "cell_type": "code",
   "outputs": [],
   "execution_count": null,
   "source": "import re",
   "id": "3bf405f192147bba"
  },
  {
   "metadata": {},
   "cell_type": "markdown",
   "source": [
    "Identify the old domain\n",
    "In this section, we will write the body of the function named contains_domain. This function uses regex to identify the domain of the user email addresses in the user_emails.csv file.\n",
    "\n",
    "The function takes address and domain as parameters, and its primary objective is to check whether an email address belongs to the old domain(abc.edu).\n",
    "\n",
    "To do this, we will use a regular expression stored in the variable named domain_pattern. This variable will now match email addresses of a particular domain. If the old domain is found, then the function returns true."
   ],
   "id": "99cbccd6d23048ba"
  },
  {
   "metadata": {},
   "cell_type": "code",
   "outputs": [],
   "execution_count": null,
   "source": [
    "  domain_pattern = r'[\\w\\.-]+@'+domain+'$'\n",
    "  if re.match(domain_pattern, address):\n",
    "    return True"
   ],
   "id": "1a39b06661a3a403"
  },
  {
   "metadata": {},
   "cell_type": "markdown",
   "source": "The function contains_domain should now look like this:",
   "id": "6d4cbeb2e979a724"
  },
  {
   "metadata": {},
   "cell_type": "code",
   "outputs": [],
   "execution_count": null,
   "source": [
    "def contains_domain(address, domain):\n",
    "  domain_pattern = r'[\\w\\.-]+@'+domain+'$'\n",
    "  if re.match(domain_pattern, address):\n",
    "    return True\n",
    "  return False"
   ],
   "id": "3547622275864e7"
  },
  {
   "metadata": {},
   "cell_type": "markdown",
   "source": [
    "Replace the domain name\n",
    "In this section, we will replace the old domain name with the new one. The second function defined in the script.py file is replace_domain.\n",
    "\n",
    "The replace_domain function takes in one email address at a time, as well as the email's old domain name and its new domain name. This function's primary objective is to replace the email addresses containing the old domain name with new domain name.\n",
    "\n",
    "In order to replace the domain name, we will use the regular expression module and make a pattern that identifies sub-strings containing the old domain name within email addresses. We will then store this pattern in a variable called old_domain_pattern. Next, we will use substitution function sub() from re module to replace the old domain name with the new one and return the updated email address."
   ],
   "id": "272bdef963057d93"
  },
  {
   "metadata": {},
   "cell_type": "code",
   "outputs": [],
   "execution_count": null,
   "source": [
    "  old_domain_pattern = r'' + old_domain + '$'\n",
    "  address = re.sub(old_domain_pattern, new_domain, address)"
   ],
   "id": "33e8d7f1f1200322"
  },
  {
   "metadata": {},
   "cell_type": "markdown",
   "source": "The function replace_domain should now look similar to the following:",
   "id": "33d3eb211a5c46c"
  },
  {
   "metadata": {},
   "cell_type": "code",
   "outputs": [],
   "execution_count": null,
   "source": [
    "def replace_domain(address, old_domain, new_domain):\n",
    "  old_domain_pattern = r'' + old_domain + '$'\n",
    "  address = re.sub(old_domain_pattern, new_domain, address)\n",
    "  return address"
   ],
   "id": "ad5760102279d582"
  },
  {
   "metadata": {},
   "cell_type": "markdown",
   "source": [
    "Write a CSV file with replaced domain from main\n",
    "In this section, we're going to call the above defined functions: contains_domain() and replace_domain from the main(). This will allow us to find the old domain email address, replace it with the newer one, and write the updated list to a CSV file in the data directory.\n",
    "\n",
    "In the previous sections, you might have seen variables named old_domain and new_domain, which are passed as parameters to the functions. Let's declare them here within main()."
   ],
   "id": "605d8e86a1976d21"
  },
  {
   "metadata": {},
   "cell_type": "code",
   "outputs": [],
   "execution_count": null,
   "source": "  old_domain, new_domain = 'abc.edu', 'xyz.edu'",
   "id": "ede25e2565489202"
  },
  {
   "metadata": {},
   "cell_type": "markdown",
   "source": "Now store the path of the list user_emails.csv in the variable csv_file_location. Also, give a file path for the resulting updated list within the variable report_file. This updated list should be generated within the data directory.",
   "id": "ea5c0cdd47f7beea"
  },
  {
   "metadata": {},
   "cell_type": "code",
   "outputs": [],
   "execution_count": null,
   "source": [
    "  csv_file_location = '<csv_file_location>'\n",
    "  report_file =  '<data-directory>' + '/updated_user_emails.csv'"
   ],
   "id": "3c049c8f1695482c"
  },
  {
   "metadata": {},
   "cell_type": "markdown",
   "source": [
    "Replace <csv_file_location> by the path to the user_emails.csv. <csv_file_location> is similar to the path /home/student/data/user_emails.csv. For variable report_file, replace <data-directory> by the path to /data directory. <data-directory> is similar to the path /home/student/data.\n",
    "\n",
    "Then, initialize an empty list where you will store the user email addresses. This is then passed to the function contains_domain, where a regular expression is used to match them and finally replace the domains using the replace_domain function.\n",
    "\n",
    "Next, initialize the two different lists, old_domain_email_list and new_domain_email_list. The old_domain_email_list will contain all the email addresses with the old domain that the regex would match within the function contains_domain. Since the function contains_domain takes in email address passed as parameter, we will iterate over the user_email_list to pass email addresses one by one. For every matched email address, we will append it to the list old_domain_email_list."
   ],
   "id": "1675de2fd86f02d9"
  },
  {
   "metadata": {},
   "cell_type": "code",
   "outputs": [],
   "execution_count": null,
   "source": [
    "  user_email_list = []\n",
    "  old_domain_email_list = []\n",
    "  new_domain_email_list = []"
   ],
   "id": "6f55ee946bc575ee"
  },
  {
   "metadata": {},
   "cell_type": "markdown",
   "source": "The CSV module imported earlier implements classes to read and write tabular data in CSV format. The CSV library provides functionality to both read from and write to CSV files. In this case, we are first going to read data from the list (which is a CSV file). The data is read from the user_emails.csv file and passed to the user_data_list. So the user_data_list now contains the same information as that present in user_emails.csv file. While we do this, we will also add all the email addresses into the user_email_list that we initialized in the previous step.",
   "id": "b892a11aa7a71624"
  },
  {
   "metadata": {},
   "cell_type": "code",
   "outputs": [],
   "execution_count": null,
   "source": [
    "  with open(csv_file_location, 'r') as f:\n",
    "    user_data_list = list(csv.reader(f))\n",
    "    user_email_list = [data[1].strip() for data in user_data_list[1:]]"
   ],
   "id": "9f081ff228d6dde3"
  },
  {
   "metadata": {},
   "cell_type": "markdown",
   "source": "The list old_domain_email_list should contain all the email addresses with the old domain. This will be checked by the function contains_domain. The function replace_domain will then take in the email addresses (with old domain) and replace them with the new domains.",
   "id": "5a853c3a2986265a"
  },
  {
   "metadata": {},
   "cell_type": "code",
   "outputs": [],
   "execution_count": null,
   "source": [
    "    for email_address in user_email_list:\n",
    "      if contains_domain(email_address, old_domain):\n",
    "        old_domain_email_list.append(email_address)\n",
    "        replaced_email = replace_domain(email_address, old_domain, new_domain)\n",
    "        new_domain_email_list.append(replaced_email)"
   ],
   "id": "6da0292c21b57fc2"
  },
  {
   "metadata": {},
   "cell_type": "markdown",
   "source": "Now, let's define the headers for our output file through the user_data_list, which contains all the data read from user_emails.csv file.",
   "id": "2cd0b0d1e4556ea4"
  },
  {
   "metadata": {},
   "cell_type": "code",
   "outputs": [],
   "execution_count": null,
   "source": [
    "    email_key = ' ' + 'Email Address'\n",
    "    email_index = user_data_list[0].index(email_key)"
   ],
   "id": "ab2e0ce0502ba676"
  },
  {
   "metadata": {},
   "cell_type": "markdown",
   "source": [
    "Next, replace the email addresses within the user_data_list (which initially had all the user names and respective email addresses read from the user_emails.csv file) by iterating over the new_domain_email_list, and replacing the corresponding values in user_data_list.\n",
    "\n",
    "Finally, close the file using the close() method. A closed file no longer be read or written. It is good practice to use the close() method to close a file.\n"
   ],
   "id": "5f3b5ea7d747749a"
  },
  {
   "metadata": {},
   "cell_type": "code",
   "outputs": [],
   "execution_count": null,
   "source": [
    "    for user in user_data_list[1:]:\n",
    "      for old_domain, new_domain in zip(old_domain_email_list, new_domain_email_list):\n",
    "        if user[email_index] == ' ' + old_domain:\n",
    "          user[email_index] = ' ' + new_domain\n",
    "    f.close()"
   ],
   "id": "b93bc3056b4cfa89"
  },
  {
   "metadata": {},
   "cell_type": "markdown",
   "source": "Now write the list to an output file, which we declared at the beginning of the script within the variable report_file.",
   "id": "be3e2a54021a1fdb"
  },
  {
   "metadata": {},
   "cell_type": "code",
   "outputs": [],
   "execution_count": null,
   "source": [
    "  with open(report_file, 'w+') as output_file:\n",
    "    writer = csv.writer(output_file)\n",
    "    writer.writerows(user_data_list)\n",
    "    output_file.close()\n",
    "Copied!"
   ],
   "id": "81c8132f35e16a2c"
  },
  {
   "metadata": {},
   "cell_type": "markdown",
   "source": "Finally, call the main() method.",
   "id": "b5923e6b194b9924"
  },
  {
   "metadata": {},
   "cell_type": "code",
   "outputs": [],
   "execution_count": null,
   "source": "main()",
   "id": "f5e29d1029ace12d"
  },
  {
   "metadata": {},
   "cell_type": "markdown",
   "source": "The script should now look like this:",
   "id": "52a591a7ca18ceb0"
  },
  {
   "cell_type": "code",
   "execution_count": null,
   "id": "initial_id",
   "metadata": {
    "collapsed": true
   },
   "outputs": [],
   "source": [
    "#!/usr/bin/env python3\n",
    "\n",
    "import re\n",
    "import csv\n",
    "\n",
    "\n",
    "def contains_domain(address, domain):\n",
    "  \"\"\"Returns True if the email address contains the given,domain,in the domain position, false if not.\"\"\"\n",
    "  domain_pattern = r'[\\w\\.-]+@'+domain+'$'\n",
    "  if re.match(domain_pattern,address):\n",
    "    return True\n",
    "  return False\n",
    "\n",
    "\n",
    "def replace_domain(address, old_domain, new_domain):\n",
    "  \"\"\"Replaces the old domain with the new domain in the received address.\"\"\"\n",
    "  old_domain_pattern = r'' + old_domain + '$'\n",
    "  address = re.sub(old_domain_pattern, new_domain, address)\n",
    "  return address\n",
    "\n",
    "def main():\n",
    "  \"\"\"Processes the list of emails, replacing any instances of the old domain with the new domain.\"\"\"\n",
    "  old_domain, new_domain = 'abc.edu', 'xyz.edu'\n",
    "  csv_file_location = '<csv_file_location>'\n",
    "  report_file = '<data-directory>' + '/updated_user_emails.csv'\n",
    "  user_email_list = []\n",
    "  old_domain_email_list = []\n",
    "  new_domain_email_list = []\n",
    "\n",
    "  with open(csv_file_location, 'r') as f:\n",
    "    user_data_list = list(csv.reader(f))\n",
    "    user_email_list = [data[1].strip() for data in user_data_list[1:]]\n",
    "\n",
    "    for email_address in user_email_list:\n",
    "      if contains_domain(email_address, old_domain):\n",
    "        old_domain_email_list.append(email_address)\n",
    "        replaced_email = replace_domain(email_address,old_domain,new_domain)\n",
    "        new_domain_email_list.append(replaced_email)\n",
    "\n",
    "    email_key = ' ' + 'Email Address'\n",
    "    email_index = user_data_list[0].index(email_key)\n",
    "\n",
    "    for user in user_data_list[1:]:\n",
    "      for old_domain, new_domain in zip(old_domain_email_list, new_domain_email_list):\n",
    "        if user[email_index] == ' ' + old_domain:\n",
    "          user[email_index] = ' ' + new_domain\n",
    "  f.close()\n",
    "\n",
    "  with open(report_file, 'w+') as output_file:\n",
    "    writer = csv.writer(output_file)\n",
    "    writer.writerows(user_data_list)\n",
    "    output_file.close()\n",
    "\n",
    "main()"
   ]
  }
 ],
 "metadata": {
  "kernelspec": {
   "display_name": "Python 3",
   "language": "python",
   "name": "python3"
  },
  "language_info": {
   "codemirror_mode": {
    "name": "ipython",
    "version": 2
   },
   "file_extension": ".py",
   "mimetype": "text/x-python",
   "name": "python",
   "nbconvert_exporter": "python",
   "pygments_lexer": "ipython2",
   "version": "2.7.6"
  }
 },
 "nbformat": 4,
 "nbformat_minor": 5
}
