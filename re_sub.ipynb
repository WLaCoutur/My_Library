{
 "cells": [
  {
   "cell_type": "code",
   "execution_count": null,
   "id": "initial_id",
   "metadata": {
    "collapsed": true
   },
   "outputs": [],
   "source": [
    ""
   ]
  },
  {
   "metadata": {},
   "cell_type": "markdown",
   "source": [
    "Guide d'étude : Expression régulière avancéeStatut : Traduit automatiquement de Anglais\n",
    "Traduit automatiquement de Anglais\n",
    "Information : Cet élément comprend du contenu qui n’a pas encore été traduit dans votre langue préférée.\n",
    "Les expressions régulières avancées - communément appelées regex avancées - sont utilisées par les développeurs pour exécuter des filtrages complexes sur des chaînes de caractères. Dans cette lecture, vous découvrirez quelques exemples courants d'expressions régulières avancées.\n",
    "\n",
    "Modifications\n",
    "\n",
    "Une altération correspond à n'importe laquelle des alternatives séparées par le symbole du tuyau |. Prenons un exemple :\n",
    "\n",
    " r\"location.*(London|Berlin|Madrid)\"\n",
    "\n",
    "Cette ligne de code correspondra à la chaîne de texte location is London, location is Berlin, ou location is Madrid.\n",
    "\n",
    "Correspondance uniquement au début ou à la fin du texte\n",
    "\n",
    "Si vous utilisez le symbole de l'accent circonflexe (également connu sous le nom de caret) ^ comme premier caractère de votre regex, celle-ci ne correspondra que si le motif se trouve au début de la chaîne. À l'inverse, si vous utilisez le symbole du dollar ($) à la fin d'une regex, celle-ci ne fonctionnera que si le motif se trouve à la fin de la chaîne. Prenons un exemple :\n",
    "\n",
    "r”^My name is (\\w+)”\n",
    "\n",
    "Cette ligne de code correspondra à My name is Asha mais pas à Hello. My name is Asha.\n",
    "\n",
    "Plages de caractères\n",
    "\n",
    "Les plages de caractères peuvent être utilisées pour comparer un seul caractère à un ensemble de possibilités. Voici quelques exemples :\n",
    "\n",
    "r”[A-Z] Ceci correspondra à une seule lettre majuscule.\n",
    "\n",
    "r”[0-9$-,.] Ceci correspondra à n'importe quel chiffre de zéro à neuf, ou au signe du dollar, au trait d'union, à la virgule ou au point.\n",
    "\n",
    "Les deux exemples ci-dessus sont souvent combinés avec les qualificatifs de répétition. Voyons un autre exemple :\n",
    "\n",
    "r”([0-9]{3}-[0-9]{3}-[0-9]{4})”\n",
    "\n",
    "Cette ligne de code correspondra à un numéro de téléphone américain tel que 888-123-7612.\n",
    "\n",
    "Références arrière\n",
    "\n",
    "Une référence arrière est utilisée lorsque l'on utilise re.sub() pour substituer la valeur d'un groupe de capture dans la sortie. Prenons un exemple :\n",
    "\n",
    ">>> re.sub(r”([A-Z])\\.\\s+(\\w+)”, r”Ms. \\2”, “A. Weber and B. Bellmas have joined the team.”)\n",
    "\n",
    "Cette ligne de code produira Ms. Weber and Ms. Bellmas have joined the team.\n",
    "\n",
    "Tête de lecture\n",
    "\n",
    "Un lookahead ne correspond à un motif que s'il est suivi d'un autre motif. Voici un exemple :\n",
    "\n",
    "Si la regex était r”(Test\\d)-(?=Passed)” et la chaîne “Test1-Passed, Test2-Passed, Test3-Failed, Test4-Passed, Test5-Failed”, le résultat serait :\n",
    "\n",
    "Test1, Test2, Test4\n",
    "\n",
    "Principaux enseignements\n",
    "\n",
    "Les types d'expressions régulières avancées expliqués dans cette lecture ne sont que quelques-uns des plus couramment utilisés par les développeurs. Elles sont utiles pour la recherche de motifs, la manipulation de texte et la validation des données. Pour plus d'informations, consultez le lien suivant :"
   ],
   "id": "efbdd28ee8bd58a"
  },
  {
   "metadata": {},
   "cell_type": "markdown",
   "source": "",
   "id": "d07945635258760f"
  }
 ],
 "metadata": {
  "kernelspec": {
   "display_name": "Python 3",
   "language": "python",
   "name": "python3"
  },
  "language_info": {
   "codemirror_mode": {
    "name": "ipython",
    "version": 2
   },
   "file_extension": ".py",
   "mimetype": "text/x-python",
   "name": "python",
   "nbconvert_exporter": "python",
   "pygments_lexer": "ipython2",
   "version": "2.7.6"
  }
 },
 "nbformat": 4,
 "nbformat_minor": 5
}
