{
 "cells": [
  {
   "metadata": {},
   "cell_type": "markdown",
   "source": "# 📚 Cours express : Raw Strings, Regex, Repeat, Result",
   "id": "c829497c47a86cd7"
  },
  {
   "metadata": {},
   "cell_type": "markdown",
   "source": [
    "### 🔹 1) Raw strings\n",
    "\n",
    "Une **raw string** (chaîne brute) est écrite avec un `r` avant les guillemets :\n",
    "✅ Elle **désactive les séquences d’échappement** (`\\n`, `\\t`, etc.).\n",
    "✅ Utile pour les regex (on garde les `\\` tels quels).\n",
    "\n",
    "Exemple :"
   ],
   "id": "f8dd8cf0fea2f883"
  },
  {
   "cell_type": "code",
   "execution_count": null,
   "id": "initial_id",
   "metadata": {
    "collapsed": true
   },
   "outputs": [],
   "source": ""
  },
  {
   "metadata": {},
   "cell_type": "code",
   "outputs": [],
   "execution_count": null,
   "source": [
    "print(\"Hello\\nWorld\")    # Affiche Hello (saut de ligne) World\n",
    "print(r\"Hello\\nWorld\")   # Affiche Hello\\nWorld (pas de saut)"
   ],
   "id": "559e60820dff95a9"
  },
  {
   "metadata": {},
   "cell_type": "markdown",
   "source": [
    "### 🔹 2) Regex (Expressions régulières)\n",
    "\n",
    "Une **regex** est un motif pour rechercher/remplacer des parties de texte.\n",
    "On utilise le module `re` en Python."
   ],
   "id": "4335cb2510ec10cd"
  },
  {
   "metadata": {},
   "cell_type": "code",
   "outputs": [],
   "execution_count": null,
   "source": [
    "import re\n",
    "text = \"Python is fun\"\n",
    "match = re.search(r\"Py.*n\", text)\n",
    "if match:\n",
    "    print(\"Trouvé :\", match.group())"
   ],
   "id": "ab906c642a14ee59"
  },
  {
   "metadata": {},
   "cell_type": "markdown",
   "source": [
    "## 🔹 3) Repeat (modificateurs de répétition)\n",
    "\n",
    "| Symbole | Signification            |\n",
    "|---------|--------------------------|\n",
    "| `*`     | 0 ou plusieurs fois      |\n",
    "| `+`     | 1 ou plusieurs fois      |\n",
    "| `?`     | 0 ou 1 fois              |\n",
    "| `{m,n}` | De m à n fois            |\n",
    "\n",
    "Exemple :"
   ],
   "id": "1595433966d6cbb3"
  },
  {
   "metadata": {},
   "cell_type": "code",
   "outputs": [],
   "execution_count": null,
   "source": [
    "print(re.search(r\"ab*\", \"a\"))       # Match : \"a\" (0 b)\n",
    "print(re.search(r\"ab*\", \"abbb\"))    # Match : \"abbb\" (b répété)"
   ],
   "id": "979c62724646100f"
  },
  {
   "metadata": {},
   "cell_type": "markdown",
   "source": [
    "### 🔹 4) Result (objet Match)\n",
    "\n",
    "Si la regex trouve une correspondance, elle renvoie un **objet Match**.\n",
    "✅ On peut accéder à :\n",
    "- `.group()` : texte trouvé\n",
    "- `.start()` : position de début\n",
    "- `.end()` : position de fin\n",
    "\n",
    "Exemple :"
   ],
   "id": "9f058a6e29af7e6b"
  },
  {
   "metadata": {},
   "cell_type": "code",
   "outputs": [],
   "execution_count": null,
   "source": [
    "m = re.search(r\"\\d+\", \"Il y a 123 chats.\")\n",
    "if m:\n",
    "    print(\"Nombre trouvé :\", m.group())\n",
    "    print(\"Position :\", m.start(), \"-\", m.end())"
   ],
   "id": "4f1b9faab01c251c"
  },
  {
   "metadata": {},
   "cell_type": "markdown",
   "source": [
    "---\n",
    "\n",
    "🚀 Voilà ! Un mini-cours complet et prêt pour  Jupyter Notebook !  😊"
   ],
   "id": "5f8f69b42b9b2be2"
  }
 ],
 "metadata": {
  "kernelspec": {
   "display_name": "Python 3",
   "language": "python",
   "name": "python3"
  },
  "language_info": {
   "codemirror_mode": {
    "name": "ipython",
    "version": 2
   },
   "file_extension": ".py",
   "mimetype": "text/x-python",
   "name": "python",
   "nbconvert_exporter": "python",
   "pygments_lexer": "ipython2",
   "version": "2.7.6"
  }
 },
 "nbformat": 4,
 "nbformat_minor": 5
}
